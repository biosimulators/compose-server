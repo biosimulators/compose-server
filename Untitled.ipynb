{
 "cells": [
  {
   "cell_type": "code",
   "execution_count": 5,
   "id": "8a104fd5-addc-4c51-8aa9-9141c2d7bbca",
   "metadata": {},
   "outputs": [],
   "source": [
    "def decorator(*args):\n",
    "    def inner(*args):\n",
    "        x, y, z = args\n",
    "        a = 3 if x > 0 else 1\n",
    "        print(f'In decorator, using {x}, {y}, {z}, {a}')\n",
    "        return x*y*z / a\n",
    "    return inner\n",
    "\n",
    "\n",
    "@decorator\n",
    "def func(*args):\n",
    "    x, y, z = args\n",
    "    print(f'In func, x: {x}')\n",
    "    return (x + y + z) % 2"
   ]
  },
  {
   "cell_type": "code",
   "execution_count": 12,
   "id": "feb4cb0b-6a5f-4016-b3b8-a1b607ad5431",
   "metadata": {},
   "outputs": [
    {
     "ename": "NameError",
     "evalue": "name 'P' is not defined",
     "output_type": "error",
     "traceback": [
      "\u001b[0;31m---------------------------------------------------------------------------\u001b[0m",
      "\u001b[0;31mNameError\u001b[0m                                 Traceback (most recent call last)",
      "Cell \u001b[0;32mIn[12], line 9\u001b[0m\n\u001b[1;32m      5\u001b[0m \u001b[38;5;66;03m# Use this lock to ensure that only one thread is executing a function\u001b[39;00m\n\u001b[1;32m      6\u001b[0m \u001b[38;5;66;03m# at any time.\u001b[39;00m\n\u001b[1;32m      7\u001b[0m my_lock \u001b[38;5;241m=\u001b[39m Lock()\n\u001b[0;32m----> 9\u001b[0m \u001b[38;5;28;01mdef\u001b[39;00m \u001b[38;5;21mwith_lock\u001b[39m(f: Callable[Concatenate[Lock, \u001b[43mP\u001b[49m], R]) \u001b[38;5;241m-\u001b[39m\u001b[38;5;241m>\u001b[39m Callable[P, R]:\n\u001b[1;32m     10\u001b[0m \u001b[38;5;250m    \u001b[39m\u001b[38;5;124;03m'''A type-safe decorator which provides a lock.'''\u001b[39;00m\n\u001b[1;32m     11\u001b[0m     \u001b[38;5;28;01mdef\u001b[39;00m \u001b[38;5;21minner\u001b[39m(\u001b[38;5;241m*\u001b[39margs: P\u001b[38;5;241m.\u001b[39margs, \u001b[38;5;241m*\u001b[39m\u001b[38;5;241m*\u001b[39mkwargs: P\u001b[38;5;241m.\u001b[39mkwargs) \u001b[38;5;241m-\u001b[39m\u001b[38;5;241m>\u001b[39m R:\n",
      "\u001b[0;31mNameError\u001b[0m: name 'P' is not defined"
     ]
    }
   ],
   "source": [
    "from collections.abc import Callable\n",
    "from threading import Lock\n",
    "from typing import Concatenate\n",
    "\n",
    "# Use this lock to ensure that only one thread is executing a function\n",
    "# at any time.\n",
    "my_lock = Lock()\n",
    "\n",
    "def with_lock[**P, R](f: Callable[Concatenate[Lock, P], R]) -> Callable[P, R]:\n",
    "    '''A type-safe decorator which provides a lock.'''\n",
    "    def inner(*args: P.args, **kwargs: P.kwargs) -> R:\n",
    "        print('inner is being called')\n",
    "        # Provide the lock as the first argument.\n",
    "        return f(my_lock, *args, **kwargs)\n",
    "    print('wrapper')\n",
    "    return inner\n",
    "\n",
    "@with_lock\n",
    "def sum_threadsafe(lock: Lock, numbers: list[float]) -> float:\n",
    "    '''Add a list of numbers together in a thread-safe manner.'''\n",
    "    with lock:\n",
    "        print('in main func')\n",
    "        return sum(numbers)\n",
    "\n",
    "# We don't need to pass in the lock ourselves thanks to the decorator.\n",
    "sum_threadsafe([1.1, 2.2, 3.3])\n"
   ]
  },
  {
   "cell_type": "code",
   "execution_count": 11,
   "id": "64ab58b6-f82d-4419-bc38-c704fa8fe735",
   "metadata": {},
   "outputs": [
    {
     "ename": "NameError",
     "evalue": "name 'P' is not defined",
     "output_type": "error",
     "traceback": [
      "\u001b[0;31m---------------------------------------------------------------------------\u001b[0m",
      "\u001b[0;31mNameError\u001b[0m                                 Traceback (most recent call last)",
      "Cell \u001b[0;32mIn[11], line 1\u001b[0m\n\u001b[0;32m----> 1\u001b[0m \u001b[43mP\u001b[49m\n",
      "\u001b[0;31mNameError\u001b[0m: name 'P' is not defined"
     ]
    }
   ],
   "source": [
    "P"
   ]
  },
  {
   "cell_type": "code",
   "execution_count": null,
   "id": "0f621670-2e27-4609-b15c-6a04453292b4",
   "metadata": {},
   "outputs": [],
   "source": []
  }
 ],
 "metadata": {
  "kernelspec": {
   "display_name": "Python 3 (ipykernel)",
   "language": "python",
   "name": "python3"
  },
  "language_info": {
   "codemirror_mode": {
    "name": "ipython",
    "version": 3
   },
   "file_extension": ".py",
   "mimetype": "text/x-python",
   "name": "python",
   "nbconvert_exporter": "python",
   "pygments_lexer": "ipython3",
   "version": "3.12.3"
  }
 },
 "nbformat": 4,
 "nbformat_minor": 5
}
